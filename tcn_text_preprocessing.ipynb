{
 "cells": [
  {
   "cell_type": "code",
   "execution_count": 2,
   "metadata": {
    "id": "vCAy2wV_HEo_"
   },
   "outputs": [],
   "source": [
    "import pandas as pd\n",
    "import numpy as np\n",
    "import re\n",
    "import jieba"
   ]
  },
  {
   "cell_type": "code",
   "execution_count": 3,
   "metadata": {
    "id": "jSbPiDGbHEpB"
   },
   "outputs": [],
   "source": [
    "train_tcn = pd.read_csv('./datasets/train_tcn.csv')\n",
    "dev_tcn = pd.read_csv('./datasets/dev_tcn.csv')\n",
    "test_tcn = pd.read_csv('./datasets/test_tcn.csv')"
   ]
  },
  {
   "cell_type": "code",
   "execution_count": 4,
   "metadata": {
    "id": "r6_BMtPbHEpB",
    "outputId": "9408411b-e411-4870-eca0-477195e3fb9f"
   },
   "outputs": [
    {
     "data": {
      "text/html": [
       "<div>\n",
       "<style scoped>\n",
       "    .dataframe tbody tr th:only-of-type {\n",
       "        vertical-align: middle;\n",
       "    }\n",
       "\n",
       "    .dataframe tbody tr th {\n",
       "        vertical-align: top;\n",
       "    }\n",
       "\n",
       "    .dataframe thead th {\n",
       "        text-align: right;\n",
       "    }\n",
       "</style>\n",
       "<table border=\"1\" class=\"dataframe\">\n",
       "  <thead>\n",
       "    <tr style=\"text-align: right;\">\n",
       "      <th></th>\n",
       "      <th>product_title</th>\n",
       "      <th>category</th>\n",
       "    </tr>\n",
       "  </thead>\n",
       "  <tbody>\n",
       "    <tr>\n",
       "      <th>0</th>\n",
       "      <td>Gucci Gucci Guilty Pour Femme Stud Edition 罪愛女...</td>\n",
       "      <td>Health &amp; Beauty</td>\n",
       "    </tr>\n",
       "    <tr>\n",
       "      <th>1</th>\n",
       "      <td>（二手）PS4 GTA 5 俠盜獵車手5 Grand Theif Auto V繁體 中文版</td>\n",
       "      <td>Game Kingdom</td>\n",
       "    </tr>\n",
       "    <tr>\n",
       "      <th>2</th>\n",
       "      <td>百獸卡</td>\n",
       "      <td>Life &amp; Entertainment</td>\n",
       "    </tr>\n",
       "    <tr>\n",
       "      <th>3</th>\n",
       "      <td>nac nac活氧全效柔衣素</td>\n",
       "      <td>Mother &amp; Baby</td>\n",
       "    </tr>\n",
       "    <tr>\n",
       "      <th>4</th>\n",
       "      <td>#Nike耐吉官方F.C. 男子足球長褲新款標準型 拒水 拉鏈褲腳\\nCD0557</td>\n",
       "      <td>Men's Apparel</td>\n",
       "    </tr>\n",
       "  </tbody>\n",
       "</table>\n",
       "</div>"
      ],
      "text/plain": [
       "                                       product_title              category\n",
       "0  Gucci Gucci Guilty Pour Femme Stud Edition 罪愛女...       Health & Beauty\n",
       "1      （二手）PS4 GTA 5 俠盜獵車手5 Grand Theif Auto V繁體 中文版          Game Kingdom\n",
       "2                                                百獸卡  Life & Entertainment\n",
       "3                                     nac nac活氧全效柔衣素         Mother & Baby\n",
       "4          #Nike耐吉官方F.C. 男子足球長褲新款標準型 拒水 拉鏈褲腳\\nCD0557         Men's Apparel"
      ]
     },
     "execution_count": 4,
     "metadata": {},
     "output_type": "execute_result"
    }
   ],
   "source": [
    "train_tcn.head()"
   ]
  },
  {
   "cell_type": "code",
   "execution_count": 5,
   "metadata": {
    "id": "i9oADVB_HEpC",
    "outputId": "117feafb-e839-4183-f196-24259bab210f"
   },
   "outputs": [
    {
     "data": {
      "text/html": [
       "<div>\n",
       "<style scoped>\n",
       "    .dataframe tbody tr th:only-of-type {\n",
       "        vertical-align: middle;\n",
       "    }\n",
       "\n",
       "    .dataframe tbody tr th {\n",
       "        vertical-align: top;\n",
       "    }\n",
       "\n",
       "    .dataframe thead th {\n",
       "        text-align: right;\n",
       "    }\n",
       "</style>\n",
       "<table border=\"1\" class=\"dataframe\">\n",
       "  <thead>\n",
       "    <tr style=\"text-align: right;\">\n",
       "      <th></th>\n",
       "      <th>text</th>\n",
       "      <th>split</th>\n",
       "    </tr>\n",
       "  </thead>\n",
       "  <tbody>\n",
       "    <tr>\n",
       "      <th>0</th>\n",
       "      <td>OPPO A75 A75s A73 手机壳 软壳 挂绳壳 大眼兔硅胶壳</td>\n",
       "      <td>private</td>\n",
       "    </tr>\n",
       "    <tr>\n",
       "      <th>1</th>\n",
       "      <td>SOFT 99 鍍膜車蠟(強力撥水型)</td>\n",
       "      <td>private</td>\n",
       "    </tr>\n",
       "    <tr>\n",
       "      <th>2</th>\n",
       "      <td>低糖芒果乾 250g 臻御行</td>\n",
       "      <td>private</td>\n",
       "    </tr>\n",
       "    <tr>\n",
       "      <th>3</th>\n",
       "      <td>＊小徑文化＊日本進口ROUND TOP space craft - diamond (SC-...</td>\n",
       "      <td>private</td>\n",
       "    </tr>\n",
       "    <tr>\n",
       "      <th>4</th>\n",
       "      <td>Hello Kitty 凱蒂貓 KITTY 涼鞋 童鞋 白/紅色 小童 no739</td>\n",
       "      <td>private</td>\n",
       "    </tr>\n",
       "  </tbody>\n",
       "</table>\n",
       "</div>"
      ],
      "text/plain": [
       "                                                text    split\n",
       "0                OPPO A75 A75s A73 手机壳 软壳 挂绳壳 大眼兔硅胶壳  private\n",
       "1                                SOFT 99 鍍膜車蠟(強力撥水型)  private\n",
       "2                                     低糖芒果乾 250g 臻御行  private\n",
       "3  ＊小徑文化＊日本進口ROUND TOP space craft - diamond (SC-...  private\n",
       "4          Hello Kitty 凱蒂貓 KITTY 涼鞋 童鞋 白/紅色 小童 no739  private"
      ]
     },
     "execution_count": 5,
     "metadata": {},
     "output_type": "execute_result"
    }
   ],
   "source": [
    "dev_tcn.head()"
   ]
  },
  {
   "cell_type": "code",
   "execution_count": 6,
   "metadata": {
    "id": "Lq7DW6emHEpD",
    "outputId": "d7a8f1c6-ca55-4bf9-b730-4812dcc46914"
   },
   "outputs": [
    {
     "data": {
      "text/html": [
       "<div>\n",
       "<style scoped>\n",
       "    .dataframe tbody tr th:only-of-type {\n",
       "        vertical-align: middle;\n",
       "    }\n",
       "\n",
       "    .dataframe tbody tr th {\n",
       "        vertical-align: top;\n",
       "    }\n",
       "\n",
       "    .dataframe thead th {\n",
       "        text-align: right;\n",
       "    }\n",
       "</style>\n",
       "<table border=\"1\" class=\"dataframe\">\n",
       "  <thead>\n",
       "    <tr style=\"text-align: right;\">\n",
       "      <th></th>\n",
       "      <th>text</th>\n",
       "      <th>split</th>\n",
       "    </tr>\n",
       "  </thead>\n",
       "  <tbody>\n",
       "    <tr>\n",
       "      <th>0</th>\n",
       "      <td>【PolarStar】美麗諾羊毛保暖襪『淺灰』P18634</td>\n",
       "      <td>public</td>\n",
       "    </tr>\n",
       "    <tr>\n",
       "      <th>1</th>\n",
       "      <td>甜蜜水晶~天然水晶五行珠手鍊10mm手鍊</td>\n",
       "      <td>public</td>\n",
       "    </tr>\n",
       "    <tr>\n",
       "      <th>2</th>\n",
       "      <td>粉晶六角柱純銀項鍊</td>\n",
       "      <td>public</td>\n",
       "    </tr>\n",
       "    <tr>\n",
       "      <th>3</th>\n",
       "      <td>3M SCOTCH VHB 超強力雙面膠-戶外專用 V1808</td>\n",
       "      <td>public</td>\n",
       "    </tr>\n",
       "    <tr>\n",
       "      <th>4</th>\n",
       "      <td>燈專屬優惠 *4盒</td>\n",
       "      <td>public</td>\n",
       "    </tr>\n",
       "  </tbody>\n",
       "</table>\n",
       "</div>"
      ],
      "text/plain": [
       "                              text   split\n",
       "0    【PolarStar】美麗諾羊毛保暖襪『淺灰』P18634  public\n",
       "1             甜蜜水晶~天然水晶五行珠手鍊10mm手鍊  public\n",
       "2                        粉晶六角柱純銀項鍊  public\n",
       "3  3M SCOTCH VHB 超強力雙面膠-戶外專用 V1808  public\n",
       "4                        燈專屬優惠 *4盒  public"
      ]
     },
     "execution_count": 6,
     "metadata": {},
     "output_type": "execute_result"
    }
   ],
   "source": [
    "test_tcn.head()"
   ]
  },
  {
   "cell_type": "code",
   "execution_count": 7,
   "metadata": {
    "id": "6sWJFgnCHEpD",
    "outputId": "10893a17-a5ad-40e9-e666-4fc69bb60eeb"
   },
   "outputs": [
    {
     "name": "stdout",
     "output_type": "stream",
     "text": [
      "['Health & Beauty' 'Game Kingdom' 'Life & Entertainment' 'Mother & Baby'\n",
      " \"Men's Apparel\" \"Women's Apparel\" 'Women Bags' 'Women Shoes'\n",
      " 'Home & Living' 'Everything Else' 'Hardware & 3C'\n",
      " \"Men's Bags& Accessories\" 'Sports & Outdoors' 'Helpbuy' 'Men Shoes'\n",
      " 'Books' 'Motors' 'Home Electronic' 'Food & Beverages' 'Mobile & Gadgets'\n",
      " 'Women Accessories' 'Pets' 'Tickets & Services' nan]\n",
      "24\n"
     ]
    }
   ],
   "source": [
    "category_tcn = train_tcn.category.unique()\n",
    "\n",
    "print(category_tcn)\n",
    "print(len(category_tcn))"
   ]
  },
  {
   "cell_type": "code",
   "execution_count": 8,
   "metadata": {
    "id": "6fU1-w8RHEpE",
    "outputId": "bd4b4fa8-9e3d-4b10-8261-ecdc15781150"
   },
   "outputs": [
    {
     "name": "stdout",
     "output_type": "stream",
     "text": [
      "<class 'pandas.core.frame.DataFrame'>\n",
      "RangeIndex: 500000 entries, 0 to 499999\n",
      "Data columns (total 2 columns):\n",
      "product_title    499999 non-null object\n",
      "category         499982 non-null object\n",
      "dtypes: object(2)\n",
      "memory usage: 7.6+ MB\n"
     ]
    }
   ],
   "source": [
    "train_tcn.info()"
   ]
  },
  {
   "cell_type": "markdown",
   "metadata": {
    "id": "mB2iAgykHEpE"
   },
   "source": [
    "## Data Preprocessing\n",
    "\n",
    "1. punctuation removal \n",
    "2. non-chinese word removal\n",
    "3. numbers removal \n",
    "4. emoji/special characters removal\n",
    "5. tokenization"
   ]
  },
  {
   "cell_type": "code",
   "execution_count": 9,
   "metadata": {
    "id": "pOxczGRTHEpF"
   },
   "outputs": [],
   "source": [
    "# remove punctuation, non chinese words, special characters\n",
    "def non_chinese_removal(line):   \n",
    "    p1 = re.compile(r'''~!@#$%^&*()_\\-+=<>?:\"{}|,.\\/;'\\[]·~！@#￥%……&*（）——\\-+={}|「『《》？：“”【】、；‘'，。、''')     \n",
    "    p2 = re.compile(r'[^\\u4e00-\\u9fa5]') \n",
    "                        \n",
    "    line = p1.sub(r'',str(line))\n",
    "    line = p2.sub(r'',str(line))\n",
    "        \n",
    "    return line"
   ]
  },
  {
   "cell_type": "code",
   "execution_count": 10,
   "metadata": {
    "id": "TV7NXZ_oHEpG",
    "scrolled": true
   },
   "outputs": [],
   "source": [
    "train_tcn['product_title_clean'] = train_tcn['product_title'].apply(non_chinese_removal)\n",
    "dev_tcn['product_title_clean'] = dev_tcn['text'].apply(non_chinese_removal)\n",
    "test_tcn['product_title_clean'] = test_tcn['text'].apply(non_chinese_removal)"
   ]
  },
  {
   "cell_type": "code",
   "execution_count": 11,
   "metadata": {
    "id": "cjL44Y9WHEpG",
    "outputId": "fbfda28e-3abf-4b4e-db07-a97133e2cadd"
   },
   "outputs": [
    {
     "data": {
      "text/plain": [
       "'居家大推款記憶棉枕護勁頸椎枕修復脊椎治頸椎專用枕頭女孕婦失眠保健理療枕'"
      ]
     },
     "execution_count": 11,
     "metadata": {},
     "output_type": "execute_result"
    }
   ],
   "source": [
    "train_tcn['product_title_clean'][10]"
   ]
  },
  {
   "cell_type": "code",
   "execution_count": 12,
   "metadata": {
    "id": "3iTICvArHEpH"
   },
   "outputs": [],
   "source": [
    "def tokenize_chinese(title):\n",
    "    wordlist = jieba.cut(title) # there are 3 tokenization mode for jieba, after testing, precision mode is better for our case \n",
    "    wl_space_split = \" \".join(wordlist)\n",
    "    return wl_space_split"
   ]
  },
  {
   "cell_type": "code",
   "execution_count": 13,
   "metadata": {
    "id": "j_KEAVc5HEpH",
    "outputId": "bea630c5-a5af-4813-a2fe-4d1098887b35"
   },
   "outputs": [
    {
     "name": "stderr",
     "output_type": "stream",
     "text": [
      "Building prefix dict from the default dictionary ...\n",
      "Dumping model to file cache /var/folders/83/63jmmq312vsf41phtw7ph8400000gn/T/jieba.cache\n",
      "Loading model cost 1.332 seconds.\n",
      "Prefix dict has been built succesfully.\n"
     ]
    }
   ],
   "source": [
    "train_tcn['product_title_tokenized'] = train_tcn['product_title_clean'].apply(tokenize_chinese)\n",
    "dev_tcn['product_title_processed'] = dev_tcn['product_title_clean'].apply(tokenize_chinese)\n",
    "test_tcn['product_title_processed'] = test_tcn['product_title_clean'].apply(tokenize_chinese)"
   ]
  },
  {
   "cell_type": "code",
   "execution_count": 14,
   "metadata": {
    "id": "8QVrpyGLHEpH",
    "outputId": "a4511049-042f-4794-c029-f1a0830316e5"
   },
   "outputs": [
    {
     "data": {
      "text/plain": [
       "'居家 大推 款 記憶 棉枕 護勁 頸椎 枕 修復 脊椎 治 頸椎 專用 枕頭 女 孕婦 失眠 保健 理療 枕'"
      ]
     },
     "execution_count": 14,
     "metadata": {},
     "output_type": "execute_result"
    }
   ],
   "source": [
    "train_tcn['product_title_tokenized'][10]"
   ]
  },
  {
   "cell_type": "code",
   "execution_count": 15,
   "metadata": {
    "id": "0BKUHLmaHEpI",
    "outputId": "fc957504-6b12-4e7e-b422-93e9f55a6849"
   },
   "outputs": [
    {
     "data": {
      "text/plain": [
       "0        手 机 壳 软 壳 挂 绳 壳 大眼 兔 硅 胶 壳\n",
       "1                      鍍膜 車蠟 強力 撥水型\n",
       "2                       低糖 芒果乾 臻 御行\n",
       "3                       小徑 文化 日本 進口\n",
       "4                 凱蒂貓 涼鞋 童鞋 白 紅色 小童\n",
       "5                     雷鳥 日式 木紋 桌 墊片\n",
       "6                             狂砂 小子\n",
       "7                    巨蟒 泰坦 系列 固態 硬碟\n",
       "8                  單肩 斜 背包 側背包 肩 背包\n",
       "9                  大雪山 農場 山 苦瓜 茶包 盒\n",
       "10                 高露 潔 雙效 潔淨 牙刷 單支\n",
       "11                               絲緞\n",
       "12                  芮菲客 米蘭 玫瑰金 鋼珠 筆\n",
       "13            海底 總動員 玻璃 磁鐵 多莉 款 野獸國\n",
       "14                       甘草 瓜子 南瓜 子\n",
       "15                           行車 記錄器\n",
       "16                       伊士 達分 濾網 頭\n",
       "17              聚點 方形 方塊 灰藍 連帽 帽男 款\n",
       "18              流蘇 立體 縫線 莫卡 辛鞋 藍 黑色\n",
       "19            新品 時尚 可愛 寶寶 繡花 連衣裙 洋裝\n",
       "20     客制化 泡泡 气囊气 垫 手 机 支架 捕 梦 网 羽毛\n",
       "21                   機器人 印花 尼龍 手 拿包\n",
       "22               伊 玛 公升 不 锈 钢 快 煮 壶\n",
       "23                                送\n",
       "24         日系 羊毛 混紡 保暖 堆 堆帽 貝雷帽 毛線帽\n",
       "25                日本 芝研 植萃 皇后 化妝水 款\n",
       "26     德爾 斐 神諭 繁體 中文版 高雄 龐奇 桌遊 新天鵝堡\n",
       "27                 印尼 拉 茶包 可 超取 峇里島\n",
       "28                 教育 之友 成人 舒壓 著色 本\n",
       "29                破盤 出清 短褲 顯瘦 休閒 熱褲\n",
       "                   ...             \n",
       "970                     耐吉 高階 慢跑 鞋女\n",
       "971                     達墨 雙 車用 充電器\n",
       "972                純鈦 兒童 湯匙 叉子 鈦 餐具\n",
       "973                  多功能 鞋 深 绿 色 男鞋\n",
       "974                  理優 英文 拼字 釘珠 上衣\n",
       "975                白 金牌 可調式 鋼筆 用 墨水\n",
       "976              真皮 女用 小 手提 斜背 二用 包\n",
       "977            多功能 觸摸 自行車 單車 腳踏車 前包\n",
       "978                 透氣 網紗 閃 鑽 懶人 鞋藍\n",
       "979                        鋯石 流蘇 耳環\n",
       "980                         泰勒絲 手機殼\n",
       "981                  美國 交通 系列 噗噗 車藍\n",
       "982        光華 二聯 直式 非 碳紙 複寫 估價 本入 包\n",
       "983                全 白色 袜套复 古 休 闲 鞋\n",
       "984               紐頓 成犬 雞肉 南瓜 寶羅 寵品\n",
       "985                     三層 烤漆 沖孔 鐵架\n",
       "986            三麗鷗 指 環扣 手機 支架 大頭 系列\n",
       "987             學院 風 百搭 蕾絲 花邊 抽繩 短褲\n",
       "988             側背包 斜 背包 真皮 菱格 包包 包\n",
       "989                 自然 補給 膠原 玫肌 凍飲瓶\n",
       "990                         桐木 砂 玫瑰\n",
       "991    冰雪 奇緣 白雪 森林 藍 卡通 睡袋 台灣 製 迪士尼\n",
       "992                      潔保 公共 排椅 組\n",
       "993            加拿大 收納箱 兔子 台灣 授權 代理商\n",
       "994           力 大牌 橫式 板夾 顏色 隨機 出貨 個\n",
       "995        撕破 乐 趣 独 特 风 格 中 直筒 牛仔 裤\n",
       "996         兒童 套裝 台灣 製薄 長袖 居家 套裝 魔法\n",
       "997                    高密 尼龍 後背包 中型\n",
       "998                      開口 可 調節 戒指\n",
       "999                     女 排汗 快干 恤 黑\n",
       "Name: product_title_processed, Length: 1000, dtype: object"
      ]
     },
     "execution_count": 15,
     "metadata": {},
     "output_type": "execute_result"
    }
   ],
   "source": [
    "dev_tcn['product_title_processed']"
   ]
  },
  {
   "cell_type": "code",
   "execution_count": 16,
   "metadata": {
    "id": "76sJspm0HEpI",
    "outputId": "cfb5291f-8c34-4780-cc4f-2fbe26dc4e6a"
   },
   "outputs": [
    {
     "data": {
      "text/plain": [
       "0           美麗 諾 羊毛 保暖 襪 淺灰\n",
       "1    甜蜜 水晶 天然 水晶 五行 珠 手鍊 手鍊\n",
       "2             粉晶 六 角柱 純銀 項鍊\n",
       "3           超 強力 雙面 膠 戶外 專用\n",
       "4                 燈 專屬 優惠 盒\n",
       "Name: product_title_processed, dtype: object"
      ]
     },
     "execution_count": 16,
     "metadata": {},
     "output_type": "execute_result"
    }
   ],
   "source": [
    "test_tcn['product_title_processed'][:5]"
   ]
  },
  {
   "cell_type": "code",
   "execution_count": 17,
   "metadata": {
    "id": "jWxRXJYNHEpI"
   },
   "outputs": [],
   "source": [
    "train_tcn.to_csv('cleaned_train_tcn.csv', index = False)\n",
    "dev_tcn.to_csv('cleaned_dev_tcn.csv', index = False)\n",
    "test_tcn.to_csv('cleaned_test_tcn.csv', index = False)"
   ]
  },
  {
   "cell_type": "markdown",
   "metadata": {
    "id": "znHFqxLVHEpI"
   },
   "source": [
    "### Avoid Stopword Removal:\n",
    "\n",
    "1. Machine Translation\n",
    "\n",
    "2. Language Modeling\n",
    "\n",
    "3. Text Summarization\n",
    "\n",
    "4. Question-Answering problems"
   ]
  },
  {
   "cell_type": "code",
   "execution_count": null,
   "metadata": {},
   "outputs": [],
   "source": []
  }
 ],
 "metadata": {
  "colab": {
   "name": "tcn_text_preprocessing.ipynb",
   "provenance": []
  },
  "kernelspec": {
   "display_name": "Python 3 (ipykernel)",
   "language": "python",
   "name": "python3"
  },
  "language_info": {
   "codemirror_mode": {
    "name": "ipython",
    "version": 3
   },
   "file_extension": ".py",
   "mimetype": "text/x-python",
   "name": "python",
   "nbconvert_exporter": "python",
   "pygments_lexer": "ipython3",
   "version": "3.7.3"
  }
 },
 "nbformat": 4,
 "nbformat_minor": 2
}
